#!/usr/bin/env python
# coding: utf-8

# In[21]:


import numpy as np
import pandas as pd
import matplotlib.pyplot as plt

df = pd.read_csv('C:/Users/Administrator/Documents/machine learning/datasets/Biomechanical features of orthopedic patients.csv')

df.head()


# In[6]:


df.shape


# In[10]:


from sklearn.model_selection import train_test_split
from sklearn.neighbors import KNeighborsClassifier

x = df[['pelvic_incidence', 'pelvic_tilt numeric', 'lumbar_lordosis_angle', 'sacral_slope', 'pelvic_radius', 'degree_spondylolisthesis' ]]
y = df['class']

x


# In[11]:


y


# In[15]:


x_train, x_test, y_train, y_test = train_test_split(x, y, test_size = 0.20)

print(x_train.shape)
print(x_test.shape)
print(y_train.shape)
print(y_test.shape)


# In[20]:


knn = KNeighborsClassifier(n_neighbors = 5, metric = 'minkowski')

knn.fit(x_train, y_train)


# In[22]:


y_pred = knn.predict(x_test)

y_pred


# In[25]:


#lets give a new data that has never seen before

prediction1 = knn.predict([['30.025912', '10.821739',	'19.870302',	'43.162905',	'80.642891',	'7.984196']])
prediction1

#output is abnormal


# In[26]:


prediction2 = knn.predict([['70.058902', '18.603163',	'28.157531',	'60.678539',	'91.955423',	'-5.652188']])
prediction2


# In[ ]:




