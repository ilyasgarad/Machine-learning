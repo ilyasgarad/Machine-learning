#!/usr/bin/env python
# coding: utf-8

# In[1]:


import numpy as np
import matplotlib.pyplot as plt
import pandas as pd
import seaborn as sns


# In[13]:


diabetes = pd.read_csv('C:/Users/Administrator/Documents/machine learning/datasets/diabetes.csv')

diabetes.head()


# In[14]:


diabetes.info()


# In[15]:


diabetes.shape


# In[24]:


sns.countplot(diabetes['Outcome'])
plt.show()


# In[28]:


sns.countplot(diabetes['Pregnancies'],label="count")
plt.show()


# In[29]:


diabetes['Age'].hist()
plt.show()


# In[31]:


x = diabetes.iloc[:,0:8]
x.head()


# In[32]:


y = diabetes.iloc[:,8]
y.head()


# In[33]:


from sklearn.model_selection import train_test_split

x_train, x_test, y_train, y_test = train_test_split(x, y, test_size = .20)


# In[34]:


print("size of x_train is", x_train.shape)
print("size of y_train is", y_train.shape)
print("size of x_test is",x_test.shape)
print("size of y_test is",y_test.shape)


# In[41]:


from sklearn.linear_model import LogisticRegression
model = LogisticRegression(max_iter=1000)
model.fit(x_train, y_train)


# In[42]:


prediction = model.predict(x_test)
print(prediction)


# In[44]:


from sklearn.metrics import accuracy_score

print("Accuracy is",accuracy_score(y_test, prediction))


# In[ ]:




