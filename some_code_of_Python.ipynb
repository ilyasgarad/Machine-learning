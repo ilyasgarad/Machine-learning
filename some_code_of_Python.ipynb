{
 "cells": [
  {
   "cell_type": "markdown",
   "id": "36faf13e-36b4-4689-9287-08d2e6f6b9d2",
   "metadata": {},
   "source": [
    "**Fundmental of paython**"
   ]
  },
  {
   "cell_type": "code",
   "execution_count": 2,
   "id": "f510d103-2808-4f2a-b390-f659845f7de6",
   "metadata": {},
   "outputs": [
    {
     "data": {
      "text/plain": [
       "75.0"
      ]
     },
     "execution_count": 2,
     "metadata": {},
     "output_type": "execute_result"
    }
   ],
   "source": [
    "#creating a function and calling to excute \n",
    "def grade(midterm, project, final):\n",
    "    return midterm * 0.4 + project * 0.2 + final * 0.4\n",
    "grade(60, 75, 90)"
   ]
  },
  {
   "cell_type": "code",
   "execution_count": 9,
   "id": "19ee5b2c-0773-4a92-887a-fad8bcefd402",
   "metadata": {},
   "outputs": [
    {
     "name": "stdout",
     "output_type": "stream",
     "text": [
      "['Mango', 'Apple', 'Blackberry', 'Orange', 'Banana']\n",
      "['Mango', 'Apple', 'Blackberry', 'Orange']\n",
      "['Blackberry', 'Orange', 'Banana']\n",
      "['Apple', 'Blackberry', 'Orange']\n",
      "Mango\n",
      "Apple\n",
      "Blackberry\n",
      "Orange\n",
      "Banana\n",
      "Mango\n",
      "Apple\n",
      "Blackberry\n",
      "Orange\n",
      "Banana\n"
     ]
    }
   ],
   "source": [
    "#creating and excuting a list and its methods like sorting etc\n",
    "list1 = [\"Mango\", \"Apple\", \"Blackberry\", \"Orange\", \"Banana\"]\n",
    "#printing the list\n",
    "print(list1)\n",
    "\n",
    "#slicing the list\n",
    "#it prints all the list except last one\n",
    "print(list1[:-1])\n",
    "# it prints  all except first 2 objects\n",
    "print(list1[2:])\n",
    "# it prints 1 up to 4 but 4 is excluded\n",
    "print(list1[1:4])\n",
    "\n",
    "#loop the list using for\n",
    "for x in list1:\n",
    "    print(x)\n",
    "# looping with the index of the list\n",
    "for index, x in enumerate(list1):\n",
    "    print(x)\n"
   ]
  },
  {
   "cell_type": "code",
   "execution_count": 16,
   "id": "ef6c4811-01ea-4a14-b244-64ceab6c6edf",
   "metadata": {},
   "outputs": [
    {
     "name": "stdout",
     "output_type": "stream",
     "text": [
      "('Mango', 'Banana', 'Apple', 'Orange')\n",
      "Yes Banana is in the tuple\n",
      "4\n"
     ]
    }
   ],
   "source": [
    "# creating and executing the tuple \n",
    "\n",
    "tuple1 = (\"Mango\", \"Banana\", \"Apple\", \"Orange\")\n",
    "print(tuple1)\n",
    "\n",
    "#checking if an object is in the tuple or not\n",
    "if \"Banana\" in tuple1:\n",
    "    print(\"Yes Banana is in the tuple\")\n",
    "else:\n",
    "    print(\"No Banana is not the tuple\")\n",
    "\n",
    "#know the length of the tuple\n",
    "print(len(tuple1))"
   ]
  },
  {
   "cell_type": "code",
   "execution_count": 32,
   "id": "1e008cb6-becb-47d4-aa8e-0a4c7b0195cd",
   "metadata": {},
   "outputs": [
    {
     "name": "stdout",
     "output_type": "stream",
     "text": [
      "{'Name': 'ilyas', 'Email': 'ilyaasgaraad@gmail.com', 'Age': 40}\n",
      "{'Name': 'Ali', 'Email': 'AliMuse@gmail.com', 'Age': 30}\n",
      "dict_keys(['Name', 'Email', 'Age'])\n",
      "dict_values(['Ali', 'AliMuse@gmail.com', 30])\n",
      "ilyaasgaraad@gmail.com\n",
      "{'Name': 'Ali Muse Yusuf', 'Email': 'AliMuse@gmail.com', 'Age': 30}\n",
      "{'student1': {'Name': 'Ahmed', 'Email': 'Ahmed@gmail.com', 'Age': 35}, 'student3': {'Name': 'Yasin', 'Email': 'Yasin@gmail.com', 'Age': 43}, 'student4': {'Name': 'Faduma', 'Email': 'Faduma@gmail.com', 'Age': 18}}\n"
     ]
    }
   ],
   "source": [
    "#creating a dictionary and excuting its methods\n",
    "student = {\"Name\" : \"ilyas\", \"Email\" : \"ilyaasgaraad@gmail.com\", \"Age\" : 40}\n",
    "print(student)\n",
    "\n",
    "#creating the dictionary in other way\n",
    "student2 = dict(Name = \"Ali\", Email = \"AliMuse@gmail.com\", Age = 30)\n",
    "print(student2)\n",
    "\n",
    "#print just the key or the value of the dictionary\n",
    "\n",
    "print(student.keys())\n",
    "print(student2.values())\n",
    "\n",
    "#printing just one value in the dictionary\n",
    "x = student[\"Email\"]\n",
    "print(x)\n",
    "\n",
    "#changing the value of the dictionary\n",
    "student2[\"Name\"] = \"Ali Muse Yusuf\"\n",
    "print(student2)\n",
    "\n",
    "#nested dictionary\n",
    "students = {\n",
    "\"student1\" : {\n",
    "            \"Name\" : \"Ahmed\",\n",
    "            \"Email\" : \"Ahmed@gmail.com\",\n",
    "             \"Age\" : 35\n",
    "            },\n",
    "\"student3\": {\n",
    "            \"Name\" : \"Yasin\",\n",
    "            \"Email\" : \"Yasin@gmail.com\",\n",
    "            \"Age\" : 43\n",
    "            },\n",
    "\"student4\" : {\n",
    "            \"Name\" : \"Faduma\",\n",
    "            \"Email\" : \"Faduma@gmail.com\",\n",
    "            \"Age\" : 18\n",
    "           }\n",
    "}\n",
    "print(students)"
   ]
  },
  {
   "cell_type": "code",
   "execution_count": 55,
   "id": "5cf4f9f6-7228-477d-afc9-b7b5f44513da",
   "metadata": {},
   "outputs": [
    {
     "name": "stdout",
     "output_type": "stream",
     "text": [
      "mohamed\n",
      "ilyas 40\n"
     ]
    }
   ],
   "source": [
    "# creatin classes\n",
    "class person:\n",
    "    x = \"mohamed\"\n",
    "p1 = person()\n",
    "print(p1.x)\n",
    "\n",
    "# init function in  a class\n",
    "class person:\n",
    "    def __init__(self, name, age):\n",
    "        self.name = name\n",
    "        self.age = age\n",
    "p1 = person(\"ilyas\", 40)\n",
    "print(p1.name, p1.age)"
   ]
  },
  {
   "cell_type": "code",
   "execution_count": 4,
   "id": "68f7040e-7428-42c8-b7f9-b9d8d13d40c5",
   "metadata": {},
   "outputs": [
    {
     "name": "stdout",
     "output_type": "stream",
     "text": [
      "0\n",
      "1\n",
      "2\n",
      "3\n",
      "4\n",
      "5\n",
      "6\n",
      "7\n",
      "8\n",
      "9\n",
      "30\n",
      "31\n",
      "32\n",
      "33\n",
      "34\n",
      "35\n",
      "36\n"
     ]
    }
   ],
   "source": [
    "#while loop\n",
    "i =  0;\n",
    "while i < 10:\n",
    "    print(i)\n",
    "    i += 1\n",
    "# break and countinue\n",
    "i =  30;\n",
    "while i < 40:\n",
    "    print(i)\n",
    "    i += 1\n",
    "    if i == 35:\n",
    "        continue\n",
    "    if i == 37:\n",
    "        break\n"
   ]
  },
  {
   "cell_type": "code",
   "execution_count": 13,
   "id": "a7c0e9e0-3508-45e4-a8c7-e2630660db11",
   "metadata": {},
   "outputs": [
    {
     "name": "stdout",
     "output_type": "stream",
     "text": [
      "{'Grape', 'Blackberry', 'Mango', 'Banana', 'Apple'}\n",
      "{'Grape', 'Blackberry', 'Orange', 'Mango', 'Banana', 'Apple'}\n",
      "{'Grape', 'Blackberry', 'Orange', 'Mango', 'Apple'}\n",
      "{'Grape', 'Blackberry', 'Orange', 'Mango', 'Apple'}\n",
      "{'Apple', 'Grape', 'Orange', 'Patates', 'Egg', 'Mango', 'bread', 'Blackberry'}\n"
     ]
    }
   ],
   "source": [
    "#creating and executing sets, sets has no order\n",
    "\n",
    "set1 = {\"Banana\", \"Apple\", \"Mango\", \"Grape\", \"Blackberry\", \"Grape\"}\n",
    "#when we are printing the duplicate objects will gone\n",
    "print(set1)\n",
    "\n",
    "#adding new object to the set\n",
    "set1.add(\"Orange\")\n",
    "print(set1)\n",
    "\n",
    "#removing some objects from the set\n",
    "set1.remove(\"Banana\")\n",
    "print(set1)\n",
    "\n",
    "#other way to remove an object from the set, \n",
    "#discard it doesn't make alert if you try to remove an object that is not in the set\n",
    "\n",
    "set1.discard(\"Armut\")\n",
    "print(set1)\n",
    "\n",
    "#concatenating  two sets\n",
    "set2 = {\"Patates\", \"Egg\", \"bread\"}\n",
    "\n",
    "set3 = set1.union(set2)\n",
    "print(set3)"
   ]
  },
  {
   "cell_type": "code",
   "execution_count": 15,
   "id": "0394f101-f9a1-496e-9995-a6e00e7dcd7e",
   "metadata": {},
   "outputs": [
    {
     "name": "stdin",
     "output_type": "stream",
     "text": [
      "Enter the first number : 6\n",
      "Chose the operator : /\n",
      "Enter the second number : 2\n"
     ]
    },
    {
     "name": "stdout",
     "output_type": "stream",
     "text": [
      "3.0\n"
     ]
    }
   ],
   "source": [
    "#simple calculator using if else statements\n",
    "\n",
    "first_number = float(input(\"Enter the first number :\"))\n",
    "operator = input(\"Chose the operator :\")\n",
    "second_number = float(input(\"Enter the second number :\"))\n",
    "\n",
    "if operator == \"+\":\n",
    "    print(first_number + second_number)\n",
    "elif operator == \"-\":\n",
    "    print(first_number - second_number)\n",
    "elif operator == \"*\":\n",
    "    print(first_number * second_number)\n",
    "elif operator == \"/\":\n",
    "    print(first_number / second_number)\n",
    "elif operator == \"%\":\n",
    "    print(first_number % second_number)\n",
    "else:\n",
    "    print(\"Invalid operator\")"
   ]
  },
  {
   "cell_type": "code",
   "execution_count": null,
   "id": "28822edd-b022-4b25-9478-588aa20bb07d",
   "metadata": {},
   "outputs": [],
   "source": []
  }
 ],
 "metadata": {
  "kernelspec": {
   "display_name": "Python 3 (ipykernel)",
   "language": "python",
   "name": "python3"
  },
  "language_info": {
   "codemirror_mode": {
    "name": "ipython",
    "version": 3
   },
   "file_extension": ".py",
   "mimetype": "text/x-python",
   "name": "python",
   "nbconvert_exporter": "python",
   "pygments_lexer": "ipython3",
   "version": "3.9.13"
  }
 },
 "nbformat": 4,
 "nbformat_minor": 5
}
